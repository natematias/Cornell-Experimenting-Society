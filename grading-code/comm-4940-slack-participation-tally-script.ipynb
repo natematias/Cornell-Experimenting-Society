{
 "cells": [
  {
   "cell_type": "markdown",
   "metadata": {},
   "source": [
    "# COMM 4940 Slack Participation Tally Script\n",
    "[J. Nathan Matias](https://natematias.com), January 2020\n",
    "\n",
    "This script is the intitial prototype of software that will record counts of student participation in the online chat for class. Since the class participation grade is partly based on participation in chat discussion (at least one toplevel comment and one reply before each class), the purpose of this script is to inform the professor about levels of participation when making grading decisions.\n",
    "\n",
    "[COMM 4940](https://natematias.com/courses/comm4940): The Design and Governance of Field Experiments"
   ]
  },
  {
   "cell_type": "code",
   "execution_count": 1,
   "metadata": {},
   "outputs": [],
   "source": [
    "import os, datetime\n",
    "import pandas as pd"
   ]
  },
  {
   "cell_type": "code",
   "execution_count": 2,
   "metadata": {},
   "outputs": [
    {
     "name": "stdout",
     "output_type": "stream",
     "text": [
      "Data dir is: /home/paprika/Downloads/COMM4940 Slack export Jan 21 2020 - Apr 7 2020\n"
     ]
    }
   ],
   "source": [
    "data_dir = os.getenv('DATADIR','') #something defined in the environment before launchind ipython, or default to this folder\n",
    "print(\"Data dir is: {data_dir}\".format(data_dir=data_dir))"
   ]
  },
  {
   "cell_type": "markdown",
   "metadata": {},
   "source": [
    "### Load Users"
   ]
  },
  {
   "cell_type": "code",
   "execution_count": 3,
   "metadata": {},
   "outputs": [],
   "source": [
    "users = pd.read_json(os.path.join(data_dir, 'users.json'))\n",
    "# fix where real_name is sometimes not set properly\n",
    "def fix_real_name(row):\n",
    "    if pd.notnull(row['real_name']):\n",
    "        return row['real_name']\n",
    "    elif pd.notnull(row['profile']['real_name']):\n",
    "        return row['profile']['real_name']\n",
    "users['real_name'] = users.apply(fix_real_name, axis=1)"
   ]
  },
  {
   "cell_type": "markdown",
   "metadata": {},
   "source": [
    "### Load #readings\n",
    "- want to know how many toplevel messages a user sent\n",
    "- and how many replies they made"
   ]
  },
  {
   "cell_type": "code",
   "execution_count": 4,
   "metadata": {},
   "outputs": [],
   "source": [
    "readings_dir = 'readings'\n",
    "reading_files = os.listdir(os.path.join(data_dir, readings_dir))\n",
    "\n",
    "comment_dfs = []\n",
    "\n",
    "for reading_file in reading_files:\n",
    "    comment_df = pd.read_json(os.path.join(data_dir, readings_dir, reading_file))\n",
    "    comment_dfs.append(comment_df)\n",
    "\n",
    "comments = pd.concat(comment_dfs, sort=False)"
   ]
  },
  {
   "cell_type": "code",
   "execution_count": 5,
   "metadata": {},
   "outputs": [],
   "source": [
    "comments['text_len'] = comments['text'].apply(len)\n",
    "comments['dt'] = comments['ts'].apply(datetime.datetime.utcfromtimestamp)\n",
    "comments['iso_dt'] = comments['dt'].apply(lambda dt: dt.isocalendar())"
   ]
  },
  {
   "cell_type": "code",
   "execution_count": 6,
   "metadata": {},
   "outputs": [
    {
     "name": "stdout",
     "output_type": "stream",
     "text": [
      "Number of all comments: 212\n",
      "Number of comments with minimum 50 chars: 186\n"
     ]
    }
   ],
   "source": [
    "min_comment_len = 50\n",
    "comments['text_is_min_length'] = comments['text_len'].apply(lambda l: l >= min_comment_len)\n",
    "print('Number of all comments: {nc}'.format(nc=len(comments)))\n",
    "comments = comments[comments['text_is_min_length']==True]\n",
    "print('Number of comments with minimum {min_comment_len} chars: {nc}'.format(nc=len(comments), min_comment_len=min_comment_len))"
   ]
  },
  {
   "cell_type": "code",
   "execution_count": 22,
   "metadata": {},
   "outputs": [],
   "source": [
    "def make_periods():\n",
    "    # it's up to you to ensure the beginning and end of this are long enough:\n",
    "    # in UTC\n",
    "    start_date = datetime.datetime(2020, 1, 6, 16) # Monday at Noon Eastern in UTC\n",
    "    end_date = datetime.datetime(2021,1,1)\n",
    "\n",
    "    period_durations = [\n",
    "        datetime.timedelta(hours=60),\n",
    "        datetime.timedelta(hours=108)\n",
    "        ]# should sum to a week 168 hours\n",
    "    curr_date = start_date\n",
    "    periods = []\n",
    "    while curr_date <= end_date:\n",
    "        for period_duration in period_durations:\n",
    "            prev_date = curr_date\n",
    "            curr_date += period_duration\n",
    "            periods.append((prev_date, curr_date))\n",
    "    enum_periods = list(enumerate(periods))              \n",
    "    return enum_periods"
   ]
  },
  {
   "cell_type": "code",
   "execution_count": 72,
   "metadata": {},
   "outputs": [],
   "source": [
    "def find_period(target_dt, enum_periods):\n",
    "    for pid, (start, end) in enum_periods:\n",
    "        if target_dt > start and target_dt <= end: \n",
    "            return pid, start, end\n",
    "        \n",
    "def nice_period_fmt(pid_start_end):\n",
    "    pid, start, end = pid_start_end[0], pid_start_end[1], pid_start_end[2]\n",
    "    return \"P{p} : {s}___{e}\".format(p=str(pid).zfill(3), s=start.isoformat(), e=end.isoformat())\n",
    "\n",
    "enum_periods = make_periods()\n",
    "comments['time_period'] = comments['dt'].apply(lambda x: nice_period_fmt(find_period(x, enum_periods)))"
   ]
  },
  {
   "cell_type": "code",
   "execution_count": 73,
   "metadata": {},
   "outputs": [],
   "source": [
    "def week_number(iso_dt):\n",
    "    return '{year}wk{week_number}'.format(year=iso_dt[0], week_number=str(iso_dt[1]).zfill(2))\n",
    "\n",
    "# comments['week_number'] = comments['iso_dt'].apply(week_number)\n",
    "# comments['week_range'] = comments['iso_dt'].apply(week_range)\n"
   ]
  },
  {
   "cell_type": "code",
   "execution_count": 74,
   "metadata": {},
   "outputs": [],
   "source": [
    "def top_level_or_reply(parent_id):\n",
    "    return 'top_level' if pd.isnull(parent_id) else 'reply'\n",
    "comments['comment_depth'] = comments['parent_user_id'].apply(top_level_or_reply)"
   ]
  },
  {
   "cell_type": "code",
   "execution_count": 75,
   "metadata": {},
   "outputs": [],
   "source": [
    "# this works, but doesn't insert the 0s in the case where are a user doesnt have a message of type in week\n",
    "# user_comments = comments.groupby(['user','week_number','comment_depth']).size()\\\n",
    "#                                 .reset_index().rename(columns={0:'num_messages'})"
   ]
  },
  {
   "cell_type": "code",
   "execution_count": 76,
   "metadata": {},
   "outputs": [],
   "source": [
    "comments_pivot = comments[['user','time_period','comment_depth', 'text']].pivot_table(\n",
    "                    index=['user'], \n",
    "                     columns=['time_period', 'comment_depth'],\n",
    "                     fill_value=0, \n",
    "                     aggfunc='count').unstack().to_frame().reset_index().rename(columns={0:\"count\"})"
   ]
  },
  {
   "cell_type": "code",
   "execution_count": 77,
   "metadata": {},
   "outputs": [],
   "source": [
    "# get the real_name\n",
    "comments_pivot = comments_pivot.merge(users[['id', 'real_name']], how='left', left_on='user', right_on='id')"
   ]
  },
  {
   "cell_type": "code",
   "execution_count": 78,
   "metadata": {},
   "outputs": [],
   "source": [
    "# fixup the output\n",
    "# del comments_pivot['level_0']\n",
    "COLUMN_OUTPUT_ORDER = ['time_period', 'real_name', 'comment_depth', 'count']\n",
    "comments_pivot = comments_pivot.sort_values(COLUMN_OUTPUT_ORDER)\n",
    "comments_output = comments_pivot[COLUMN_OUTPUT_ORDER]"
   ]
  },
  {
   "cell_type": "code",
   "execution_count": 79,
   "metadata": {},
   "outputs": [],
   "source": [
    "#save a CSV\n",
    "out_filename = '#readings_participation_counts_as_of_{date}.csv'.format(date=datetime.date.today().isoformat())\n",
    "participation_counts_dir = os.path.join(data_dir, 'participation_counts')\n",
    "if not os.path.exists(participation_counts_dir):\n",
    "        os.makedirs(participation_counts_dir)\n",
    "out_path = os.path.join(participation_counts_dir, out_filename)\n",
    "comments_output.to_csv(out_path, index=False)"
   ]
  },
  {
   "cell_type": "markdown",
   "metadata": {},
   "source": [
    "# Extra Code"
   ]
  },
  {
   "cell_type": "code",
   "execution_count": 58,
   "metadata": {},
   "outputs": [],
   "source": [
    "#alternate replies method, that does't rely on parent_id\n",
    "replies_list = []\n",
    "replies_ser = comments['replies']\n",
    "\n",
    "for reply_list in replies_ser:\n",
    "    if isinstance(reply_list, list):\n",
    "        replies_list.extend(reply_list) \n",
    "\n",
    "replies = pd.DataFrame.from_dict(replies_list)\n",
    "\n",
    "user_replies = replies.groupby('user').size().reset_index().rename(columns={0:\"alt_reply_count\"})"
   ]
  },
  {
   "cell_type": "markdown",
   "metadata": {},
   "source": [
    "# Copyright"
   ]
  },
  {
   "cell_type": "markdown",
   "metadata": {},
   "source": [
    "Copyright 2020 J. Nathan Matias\n",
    "\n",
    "Permission is hereby granted, free of charge, to any person obtaining a copy of this software and associated documentation files (the \"Software\"), to deal in the Software without restriction, including without limitation the rights to use, copy, modify, merge, publish, distribute, sublicense, and/or sell copies of the Software, and to permit persons to whom the Software is furnished to do so, subject to the following conditions:\n",
    "\n",
    "The above copyright notice and this permission notice shall be included in all copies or substantial portions of the Software.\n",
    "\n",
    "THE SOFTWARE IS PROVIDED \"AS IS\", WITHOUT WARRANTY OF ANY KIND, EXPRESS OR IMPLIED, INCLUDING BUT NOT LIMITED TO THE WARRANTIES OF MERCHANTABILITY, FITNESS FOR A PARTICULAR PURPOSE AND NONINFRINGEMENT. IN NO EVENT SHALL THE AUTHORS OR COPYRIGHT HOLDERS BE LIABLE FOR ANY CLAIM, DAMAGES OR OTHER LIABILITY, WHETHER IN AN ACTION OF CONTRACT, TORT OR OTHERWISE, ARISING FROM, OUT OF OR IN CONNECTION WITH THE SOFTWARE OR THE USE OR OTHER DEALINGS IN THE SOFTWARE."
   ]
  }
 ],
 "metadata": {
  "kernelspec": {
   "display_name": "Python 3",
   "language": "python",
   "name": "python3"
  },
  "language_info": {
   "codemirror_mode": {
    "name": "ipython",
    "version": 3
   },
   "file_extension": ".py",
   "mimetype": "text/x-python",
   "name": "python",
   "nbconvert_exporter": "python",
   "pygments_lexer": "ipython3",
   "version": "3.6.9"
  },
  "varInspector": {
   "cols": {
    "lenName": 16,
    "lenType": 16,
    "lenVar": 40
   },
   "kernels_config": {
    "python": {
     "delete_cmd_postfix": "",
     "delete_cmd_prefix": "del ",
     "library": "var_list.py",
     "varRefreshCmd": "print(var_dic_list())"
    },
    "r": {
     "delete_cmd_postfix": ") ",
     "delete_cmd_prefix": "rm(",
     "library": "var_list.r",
     "varRefreshCmd": "cat(var_dic_list()) "
    }
   },
   "oldHeight": 122.850334,
   "position": {
    "height": "40px",
    "left": "778.333px",
    "right": "20px",
    "top": "120px",
    "width": "250px"
   },
   "types_to_exclude": [
    "module",
    "function",
    "builtin_function_or_method",
    "instance",
    "_Feature"
   ],
   "varInspector_section_display": "none",
   "window_display": true
  }
 },
 "nbformat": 4,
 "nbformat_minor": 2
}
