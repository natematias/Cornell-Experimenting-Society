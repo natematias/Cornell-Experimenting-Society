{
 "cells": [
  {
   "cell_type": "markdown",
   "metadata": {},
   "source": [
    "# Goal\n",
    "\n",
    "There's\n",
    "\n",
    "    A) an excel document that Nathan and I created of all participants we intended to get emails. You added a sheet to the excel doc that is all the control-recipients who bounced & unsubscribed.\n",
    "    B) a mailchimp export of all the PFW-recipients who bounced & unsubscribed\n",
    "    C) a mailchimp export of all the eBird-recipient who bounce & unsubscribed.\n",
    "\n",
    "The data task to perform is linking the participants with the bounce & unsubscribe statuses. That is, merging the original randomizations with 3 separate documents containing unsubscribe statuses of each randomization-arm?"
   ]
  },
  {
   "cell_type": "code",
   "execution_count": 41,
   "metadata": {},
   "outputs": [],
   "source": [
    "import pandas as pd\n",
    "import os\n",
    "import uuid"
   ]
  },
  {
   "cell_type": "code",
   "execution_count": 42,
   "metadata": {},
   "outputs": [
    {
     "name": "stdout",
     "output_type": "stream",
     "text": [
      "\u001b[34mopens\u001b[m\u001b[m                    \u001b[34mrandomizations\u001b[m\u001b[m\r\n",
      "\u001b[34mpost_experiment_analysis\u001b[m\u001b[m \u001b[34munsubs\u001b[m\u001b[m\r\n"
     ]
    }
   ],
   "source": [
    "!ls data"
   ]
  },
  {
   "cell_type": "code",
   "execution_count": 43,
   "metadata": {},
   "outputs": [],
   "source": [
    "users = pd.read_excel('data/randomizations/GBBC_2020_randomization_emails_dedupe_03102020.xlsx')\n",
    "users.columns = [c.lower() for c in users.columns]"
   ]
  },
  {
   "cell_type": "code",
   "execution_count": 44,
   "metadata": {},
   "outputs": [
    {
     "name": "stdout",
     "output_type": "stream",
     "text": [
      "there are 9608 users\n"
     ]
    }
   ],
   "source": [
    "print(f'there are {len(users)} users')"
   ]
  },
  {
   "cell_type": "code",
   "execution_count": 45,
   "metadata": {
    "scrolled": true
   },
   "outputs": [],
   "source": [
    "#users.head()"
   ]
  },
  {
   "cell_type": "code",
   "execution_count": 46,
   "metadata": {},
   "outputs": [
    {
     "data": {
      "text/plain": [
       "control        3203\n",
       "feederwatch    3203\n",
       "gbbc           3202\n",
       "Name: group, dtype: int64"
      ]
     },
     "execution_count": 46,
     "metadata": {},
     "output_type": "execute_result"
    }
   ],
   "source": [
    "users['group'].value_counts()"
   ]
  },
  {
   "cell_type": "markdown",
   "metadata": {},
   "source": [
    "##### not sure why the randomizations had a group called gbbc. i think it should be named 'ebird' as i understand, so switching"
   ]
  },
  {
   "cell_type": "code",
   "execution_count": 47,
   "metadata": {},
   "outputs": [],
   "source": [
    "users['group'] = users['group'].apply(lambda s: s.replace('gbbc', 'ebird'))"
   ]
  },
  {
   "cell_type": "code",
   "execution_count": 48,
   "metadata": {},
   "outputs": [
    {
     "data": {
      "text/plain": [
       "control        3203\n",
       "feederwatch    3203\n",
       "ebird          3202\n",
       "Name: group, dtype: int64"
      ]
     },
     "execution_count": 48,
     "metadata": {},
     "output_type": "execute_result"
    }
   ],
   "source": [
    "users['group'].value_counts()"
   ]
  },
  {
   "cell_type": "markdown",
   "metadata": {},
   "source": [
    "### merge unsubscribe and bounces"
   ]
  },
  {
   "cell_type": "code",
   "execution_count": 49,
   "metadata": {},
   "outputs": [],
   "source": [
    "control = pd.read_excel('data/unsubs/GBBC_2020_randomization_emails_03102020_with_bounce_statuses.xlsx', \n",
    "                              sheet_name=3,).rename(columns={'Email':'email'})\n",
    "control_bounce = control[control['Reason']=='Bounced']\n",
    "control_unsub = control[control['Reason']=='Unsubscribed']\n",
    "pfw_unsub = pd.read_csv('data/unsubs/mailchimp_GBBC_PFW/unsubscribed_segment_export_fc1c9a1e1e.csv',\n",
    "                       usecols=['Email Address', 'UNSUB_CAMPAIGN_TITLE']).rename(columns={'Email Address':'email'})\n",
    "ebird_unsub = pd.read_csv('data/unsubs/mailchimp_GBBC_eBird/unsubscribed_segment_export_8c58752a04.csv',\n",
    "                          usecols=['Email Address', 'UNSUB_CAMPAIGN_TITLE']).rename(columns={'Email Address':'email'})"
   ]
  },
  {
   "cell_type": "code",
   "execution_count": 50,
   "metadata": {},
   "outputs": [],
   "source": [
    "# Potentitally run this if we find out what Group A and B are:\n",
    "# ebird_unsub = ebird_unsub[ebird_unsub['UNSUB_CAMPAIGN_TITLE']=='Comm_Research_eBird_2020']\n",
    "# pfw_unsub = pfw_unsub[pfw_unsub['UNSUB_CAMPAIGN_TITLE']=='Comm_Research_PFW_2020']"
   ]
  },
  {
   "cell_type": "code",
   "execution_count": 51,
   "metadata": {},
   "outputs": [
    {
     "name": "stdout",
     "output_type": "stream",
     "text": [
      "There were 286 unsubscribed or bounced control users\n",
      "There were 4 unsubscribed or bounced pfw users\n",
      "There were 12 unsubscribed or bounced ebird users\n"
     ]
    }
   ],
   "source": [
    "print(f\"There were {len(control_unsub)} unsubscribed or bounced control users\")\n",
    "print(f\"There were {len(pfw_unsub)} unsubscribed or bounced pfw users\")\n",
    "print(f\"There were {len(ebird_unsub)} unsubscribed or bounced ebird users\")\n",
    "# why are these so different? I'm guessing it because the control one is measuring a time-period of unsubscribes longer than the other unbuscribed"
   ]
  },
  {
   "cell_type": "code",
   "execution_count": 52,
   "metadata": {},
   "outputs": [],
   "source": [
    "unsubs = pd.DataFrame(pd.concat([control_unsub[\"email\"], pfw_unsub[\"email\"], ebird_unsub['email']]))\n",
    "unsubs['unsubscribed'] = True\n",
    "bounces = pd.DataFrame(control_bounce['email'])\n",
    "bounces['bounced'] = True"
   ]
  },
  {
   "cell_type": "code",
   "execution_count": 53,
   "metadata": {},
   "outputs": [],
   "source": [
    "assert len(users.merge(bounces)) == len(bounces)"
   ]
  },
  {
   "cell_type": "code",
   "execution_count": 54,
   "metadata": {},
   "outputs": [],
   "source": [
    "assert len(users.merge(unsubs)) == len(unsubs)"
   ]
  },
  {
   "cell_type": "code",
   "execution_count": 55,
   "metadata": {},
   "outputs": [],
   "source": [
    "users = users.merge(bounces, how='left')"
   ]
  },
  {
   "cell_type": "code",
   "execution_count": 56,
   "metadata": {},
   "outputs": [],
   "source": [
    "users = users.merge(unsubs, how='left')"
   ]
  },
  {
   "cell_type": "code",
   "execution_count": 57,
   "metadata": {},
   "outputs": [
    {
     "name": "stdout",
     "output_type": "stream",
     "text": [
      "there are 9608 users\n"
     ]
    }
   ],
   "source": [
    "print(f'there are {len(users)} users')"
   ]
  },
  {
   "cell_type": "code",
   "execution_count": 58,
   "metadata": {},
   "outputs": [],
   "source": [
    "users['unsubscribed'] = users['unsubscribed'].fillna(False)\n",
    "users['bounced'] = users['bounced'].fillna(False)"
   ]
  },
  {
   "cell_type": "markdown",
   "metadata": {},
   "source": [
    "### Add the open states"
   ]
  },
  {
   "cell_type": "code",
   "execution_count": 59,
   "metadata": {},
   "outputs": [],
   "source": [
    "OPEN_USECOLS = ['Email Address', 'Opens', '# eBird species March 2020', '# eBird checklists March 2020']\n",
    "rename_columns={'Email Address':'email', \n",
    "                'Opens':'opens', \n",
    "                '# eBird species March 2020': 'num.ebird.species.march.2020', \n",
    "                '# eBird checklists March 2020': 'num.ebird.checklists.march.2020'}\n",
    "control_opens = pd.read_csv('data/opens/members_Comm_Research_control_2020_opened_Apr_23_2020.csv',\n",
    "                           usecols=OPEN_USECOLS).rename(columns=rename_columns)\n",
    "ebird_opens = pd.read_csv('data/opens/members_Comm_Research_eBird_2020_opened_Apr_23_2020.csv',\n",
    "                           usecols=OPEN_USECOLS).rename(columns=rename_columns)\n",
    "pfw_opens = pd.read_csv('data/opens/members_Comm_Research_PFW_2020_opened_Apr_23_2020.csv',\n",
    "                           usecols=OPEN_USECOLS).rename(columns=rename_columns)\n",
    "opens = pd.concat((control_opens, ebird_opens, pfw_opens))"
   ]
  },
  {
   "cell_type": "code",
   "execution_count": 60,
   "metadata": {},
   "outputs": [],
   "source": [
    "users = users.merge(opens, how='left')"
   ]
  },
  {
   "cell_type": "code",
   "execution_count": 61,
   "metadata": {},
   "outputs": [
    {
     "name": "stdout",
     "output_type": "stream",
     "text": [
      "there are 9608 users\n"
     ]
    }
   ],
   "source": [
    "print(f'there are {len(users)} users')"
   ]
  },
  {
   "cell_type": "code",
   "execution_count": 62,
   "metadata": {},
   "outputs": [],
   "source": [
    "users['opens'] = users['opens'].fillna(0)"
   ]
  },
  {
   "cell_type": "code",
   "execution_count": 63,
   "metadata": {},
   "outputs": [],
   "source": [
    "#users.tail()"
   ]
  },
  {
   "cell_type": "markdown",
   "metadata": {},
   "source": [
    "### verification and summary stats"
   ]
  },
  {
   "cell_type": "code",
   "execution_count": 64,
   "metadata": {},
   "outputs": [
    {
     "data": {
      "text/plain": [
       "control        3203\n",
       "feederwatch    3203\n",
       "ebird          3202\n",
       "Name: group, dtype: int64"
      ]
     },
     "execution_count": 64,
     "metadata": {},
     "output_type": "execute_result"
    }
   ],
   "source": [
    "users['group'].value_counts()"
   ]
  },
  {
   "cell_type": "code",
   "execution_count": 65,
   "metadata": {},
   "outputs": [
    {
     "data": {
      "text/plain": [
       "group        bounced  unsubscribed\n",
       "control      False    False           2912\n",
       "                      True             286\n",
       "             True     False              5\n",
       "ebird        False    False           3190\n",
       "                      True              12\n",
       "feederwatch  False    False           3199\n",
       "                      True               4\n",
       "dtype: int64"
      ]
     },
     "execution_count": 65,
     "metadata": {},
     "output_type": "execute_result"
    }
   ],
   "source": [
    "users.groupby(['group','bounced','unsubscribed']).size()"
   ]
  },
  {
   "cell_type": "code",
   "execution_count": 66,
   "metadata": {},
   "outputs": [
    {
     "data": {
      "text/html": [
       "<div>\n",
       "<style scoped>\n",
       "    .dataframe tbody tr th:only-of-type {\n",
       "        vertical-align: middle;\n",
       "    }\n",
       "\n",
       "    .dataframe tbody tr th {\n",
       "        vertical-align: top;\n",
       "    }\n",
       "\n",
       "    .dataframe thead th {\n",
       "        text-align: right;\n",
       "    }\n",
       "</style>\n",
       "<table border=\"1\" class=\"dataframe\">\n",
       "  <thead>\n",
       "    <tr style=\"text-align: right;\">\n",
       "      <th></th>\n",
       "      <th>opens</th>\n",
       "    </tr>\n",
       "    <tr>\n",
       "      <th>group</th>\n",
       "      <th></th>\n",
       "    </tr>\n",
       "  </thead>\n",
       "  <tbody>\n",
       "    <tr>\n",
       "      <th>control</th>\n",
       "      <td>0.887293</td>\n",
       "    </tr>\n",
       "    <tr>\n",
       "      <th>ebird</th>\n",
       "      <td>0.973454</td>\n",
       "    </tr>\n",
       "    <tr>\n",
       "      <th>feederwatch</th>\n",
       "      <td>0.817047</td>\n",
       "    </tr>\n",
       "  </tbody>\n",
       "</table>\n",
       "</div>"
      ],
      "text/plain": [
       "                opens\n",
       "group                \n",
       "control      0.887293\n",
       "ebird        0.973454\n",
       "feederwatch  0.817047"
      ]
     },
     "execution_count": 66,
     "metadata": {},
     "output_type": "execute_result"
    }
   ],
   "source": [
    "users.groupby(['group']).agg({'opens':pd.np.mean}).sort_index() #mean number of opens"
   ]
  },
  {
   "cell_type": "code",
   "execution_count": 67,
   "metadata": {},
   "outputs": [
    {
     "data": {
      "text/html": [
       "<div>\n",
       "<style scoped>\n",
       "    .dataframe tbody tr th:only-of-type {\n",
       "        vertical-align: middle;\n",
       "    }\n",
       "\n",
       "    .dataframe tbody tr th {\n",
       "        vertical-align: top;\n",
       "    }\n",
       "\n",
       "    .dataframe thead th {\n",
       "        text-align: right;\n",
       "    }\n",
       "</style>\n",
       "<table border=\"1\" class=\"dataframe\">\n",
       "  <thead>\n",
       "    <tr style=\"text-align: right;\">\n",
       "      <th></th>\n",
       "      <th>opens</th>\n",
       "    </tr>\n",
       "    <tr>\n",
       "      <th>group</th>\n",
       "      <th></th>\n",
       "    </tr>\n",
       "  </thead>\n",
       "  <tbody>\n",
       "    <tr>\n",
       "      <th>control</th>\n",
       "      <td>0.411177</td>\n",
       "    </tr>\n",
       "    <tr>\n",
       "      <th>ebird</th>\n",
       "      <td>0.458776</td>\n",
       "    </tr>\n",
       "    <tr>\n",
       "      <th>feederwatch</th>\n",
       "      <td>0.401186</td>\n",
       "    </tr>\n",
       "  </tbody>\n",
       "</table>\n",
       "</div>"
      ],
      "text/plain": [
       "                opens\n",
       "group                \n",
       "control      0.411177\n",
       "ebird        0.458776\n",
       "feederwatch  0.401186"
      ]
     },
     "execution_count": 67,
     "metadata": {},
     "output_type": "execute_result"
    }
   ],
   "source": [
    "users.groupby(['group']).agg({'opens':lambda series: pd.np.mean(series>0)}).sort_index() #mean nuber of users who opened"
   ]
  },
  {
   "cell_type": "markdown",
   "metadata": {},
   "source": [
    "### Generate UUIDs "
   ]
  },
  {
   "cell_type": "code",
   "execution_count": 71,
   "metadata": {},
   "outputs": [],
   "source": [
    "users['uuid'] = [str(uuid.uuid4()) for _ in range(len(users.index))]"
   ]
  },
  {
   "cell_type": "markdown",
   "metadata": {},
   "source": [
    "### write out data"
   ]
  },
  {
   "cell_type": "code",
   "execution_count": 72,
   "metadata": {},
   "outputs": [],
   "source": [
    "OUT_COLS = ['uuid', 'group', 'bounced', 'unsubscribed', 'opens', 'num.ebird.species.march.2020', 'num.ebird.checklists.march.2020']"
   ]
  },
  {
   "cell_type": "code",
   "execution_count": 73,
   "metadata": {},
   "outputs": [],
   "source": [
    "fname_stem = 'gbbc_experiment-results'\n",
    "out_dir = 'data/post_experiment_analysis'\n",
    "users[OUT_COLS].to_feather(os.path.join(out_dir, f'{fname_stem}.feather'))\n",
    "users[OUT_COLS].to_csv(os.path.join(out_dir, f'{fname_stem}.csv'), index=False)"
   ]
  }
 ],
 "metadata": {
  "kernelspec": {
   "display_name": "Python 3",
   "language": "python",
   "name": "python3"
  },
  "language_info": {
   "codemirror_mode": {
    "name": "ipython",
    "version": 3
   },
   "file_extension": ".py",
   "mimetype": "text/x-python",
   "name": "python",
   "nbconvert_exporter": "python",
   "pygments_lexer": "ipython3",
   "version": "3.8.3"
  },
  "varInspector": {
   "cols": {
    "lenName": 16,
    "lenType": 16,
    "lenVar": 40
   },
   "kernels_config": {
    "python": {
     "delete_cmd_postfix": "",
     "delete_cmd_prefix": "del ",
     "library": "var_list.py",
     "varRefreshCmd": "print(var_dic_list())"
    },
    "r": {
     "delete_cmd_postfix": ") ",
     "delete_cmd_prefix": "rm(",
     "library": "var_list.r",
     "varRefreshCmd": "cat(var_dic_list()) "
    }
   },
   "types_to_exclude": [
    "module",
    "function",
    "builtin_function_or_method",
    "instance",
    "_Feature"
   ],
   "window_display": false
  }
 },
 "nbformat": 4,
 "nbformat_minor": 2
}
