{
 "cells": [
  {
   "cell_type": "markdown",
   "metadata": {},
   "source": [
    "# Lecture 3 Code: How Experiments Work"
   ]
  },
  {
   "cell_type": "code",
   "execution_count": 23,
   "metadata": {},
   "outputs": [],
   "source": [
    "headlines <- read.csv(\"lecture-3-spreadsheet.csv\")\n",
    "headlines$click.through.rate <- headlines$clicks / headlines$impressions"
   ]
  },
  {
   "cell_type": "code",
   "execution_count": 24,
   "metadata": {},
   "outputs": [
    {
     "data": {
      "text/html": [
       "<table>\n",
       "<thead><tr><th scope=col>group</th><th scope=col>headline</th><th scope=col>impressions</th><th scope=col>clicks</th><th scope=col>click.through.rate</th></tr></thead>\n",
       "<tbody>\n",
       "\t<tr><td>Group                                                             </td><td>Local Witch Stands up for Muggles                                 </td><td> 938                                                              </td><td> 6                                                                </td><td>0.006396588                                                       </td></tr>\n",
       "\t<tr><td>Group                                                             </td><td>Jeremy Clarkson Smashes Barriers for Auto Drivers                 </td><td> 950                                                              </td><td>11                                                                </td><td>0.011578947                                                       </td></tr>\n",
       "\t<tr><td>Group                                                             </td><td>This Courtroom Speech is Changing How the World Understands Bakers</td><td>1097                                                              </td><td> 9                                                                </td><td>0.008204193                                                       </td></tr>\n",
       "\t<tr><td>Group                                                             </td><td>Teenage Poet Reminds us what it means to be American              </td><td> 995                                                              </td><td>14                                                                </td><td>0.014070352                                                       </td></tr>\n",
       "\t<tr><td>Group                                                             </td><td>Vegetarians Celebrate Olympics Champion’s Diet                    </td><td>1011                                                              </td><td> 3                                                                </td><td>0.002967359                                                       </td></tr>\n",
       "\t<tr><td>Stereotype                                                        </td><td>Area Toddler wins New York Mathematics Competition                </td><td>1168                                                              </td><td>26                                                                </td><td>0.022260274                                                       </td></tr>\n",
       "\t<tr><td>Stereotype                                                        </td><td>Tech Bro Wins Beauty Pageant                                      </td><td> 915                                                              </td><td>30                                                                </td><td>0.032786885                                                       </td></tr>\n",
       "\t<tr><td>Stereotype                                                        </td><td>This Woman Broke the Glass Ceiling in Journalism                  </td><td>1054                                                              </td><td>18                                                                </td><td>0.017077799                                                       </td></tr>\n",
       "\t<tr><td>Stereotype                                                        </td><td>Football Player Wins Neuroscience Award                           </td><td> 992                                                              </td><td>10                                                                </td><td>0.010080645                                                       </td></tr>\n",
       "\t<tr><td>Stereotype                                                        </td><td>Mathematicians Sweep National Wrestling Competition               </td><td>1056                                                              </td><td>19                                                                </td><td>0.017992424                                                       </td></tr>\n",
       "</tbody>\n",
       "</table>\n"
      ],
      "text/latex": [
       "\\begin{tabular}{r|lllll}\n",
       " group & headline & impressions & clicks & click.through.rate\\\\\n",
       "\\hline\n",
       "\t Group                                                              & Local Witch Stands up for Muggles                                  &  938                                                               &  6                                                                 & 0.006396588                                                       \\\\\n",
       "\t Group                                                              & Jeremy Clarkson Smashes Barriers for Auto Drivers                  &  950                                                               & 11                                                                 & 0.011578947                                                       \\\\\n",
       "\t Group                                                              & This Courtroom Speech is Changing How the World Understands Bakers & 1097                                                               &  9                                                                 & 0.008204193                                                       \\\\\n",
       "\t Group                                                              & Teenage Poet Reminds us what it means to be American               &  995                                                               & 14                                                                 & 0.014070352                                                       \\\\\n",
       "\t Group                                                              & Vegetarians Celebrate Olympics Champion’s Diet                     & 1011                                                               &  3                                                                 & 0.002967359                                                       \\\\\n",
       "\t Stereotype                                                         & Area Toddler wins New York Mathematics Competition                 & 1168                                                               & 26                                                                 & 0.022260274                                                       \\\\\n",
       "\t Stereotype                                                         & Tech Bro Wins Beauty Pageant                                       &  915                                                               & 30                                                                 & 0.032786885                                                       \\\\\n",
       "\t Stereotype                                                         & This Woman Broke the Glass Ceiling in Journalism                   & 1054                                                               & 18                                                                 & 0.017077799                                                       \\\\\n",
       "\t Stereotype                                                         & Football Player Wins Neuroscience Award                            &  992                                                               & 10                                                                 & 0.010080645                                                       \\\\\n",
       "\t Stereotype                                                         & Mathematicians Sweep National Wrestling Competition                & 1056                                                               & 19                                                                 & 0.017992424                                                       \\\\\n",
       "\\end{tabular}\n"
      ],
      "text/markdown": [
       "\n",
       "| group | headline | impressions | clicks | click.through.rate |\n",
       "|---|---|---|---|---|\n",
       "| Group                                                              | Local Witch Stands up for Muggles                                  |  938                                                               |  6                                                                 | 0.006396588                                                        |\n",
       "| Group                                                              | Jeremy Clarkson Smashes Barriers for Auto Drivers                  |  950                                                               | 11                                                                 | 0.011578947                                                        |\n",
       "| Group                                                              | This Courtroom Speech is Changing How the World Understands Bakers | 1097                                                               |  9                                                                 | 0.008204193                                                        |\n",
       "| Group                                                              | Teenage Poet Reminds us what it means to be American               |  995                                                               | 14                                                                 | 0.014070352                                                        |\n",
       "| Group                                                              | Vegetarians Celebrate Olympics Champion’s Diet                     | 1011                                                               |  3                                                                 | 0.002967359                                                        |\n",
       "| Stereotype                                                         | Area Toddler wins New York Mathematics Competition                 | 1168                                                               | 26                                                                 | 0.022260274                                                        |\n",
       "| Stereotype                                                         | Tech Bro Wins Beauty Pageant                                       |  915                                                               | 30                                                                 | 0.032786885                                                        |\n",
       "| Stereotype                                                         | This Woman Broke the Glass Ceiling in Journalism                   | 1054                                                               | 18                                                                 | 0.017077799                                                        |\n",
       "| Stereotype                                                         | Football Player Wins Neuroscience Award                            |  992                                                               | 10                                                                 | 0.010080645                                                        |\n",
       "| Stereotype                                                         | Mathematicians Sweep National Wrestling Competition                | 1056                                                               | 19                                                                 | 0.017992424                                                        |\n",
       "\n"
      ],
      "text/plain": [
       "   group     \n",
       "1  Group     \n",
       "2  Group     \n",
       "3  Group     \n",
       "4  Group     \n",
       "5  Group     \n",
       "6  Stereotype\n",
       "7  Stereotype\n",
       "8  Stereotype\n",
       "9  Stereotype\n",
       "10 Stereotype\n",
       "   headline                                                          \n",
       "1  Local Witch Stands up for Muggles                                 \n",
       "2  Jeremy Clarkson Smashes Barriers for Auto Drivers                 \n",
       "3  This Courtroom Speech is Changing How the World Understands Bakers\n",
       "4  Teenage Poet Reminds us what it means to be American              \n",
       "5  Vegetarians Celebrate Olympics Champion’s Diet                    \n",
       "6  Area Toddler wins New York Mathematics Competition                \n",
       "7  Tech Bro Wins Beauty Pageant                                      \n",
       "8  This Woman Broke the Glass Ceiling in Journalism                  \n",
       "9  Football Player Wins Neuroscience Award                           \n",
       "10 Mathematicians Sweep National Wrestling Competition               \n",
       "   impressions clicks click.through.rate\n",
       "1   938         6     0.006396588       \n",
       "2   950        11     0.011578947       \n",
       "3  1097         9     0.008204193       \n",
       "4   995        14     0.014070352       \n",
       "5  1011         3     0.002967359       \n",
       "6  1168        26     0.022260274       \n",
       "7   915        30     0.032786885       \n",
       "8  1054        18     0.017077799       \n",
       "9   992        10     0.010080645       \n",
       "10 1056        19     0.017992424       "
      ]
     },
     "metadata": {},
     "output_type": "display_data"
    }
   ],
   "source": [
    "headlines"
   ]
  },
  {
   "cell_type": "code",
   "execution_count": 28,
   "metadata": {},
   "outputs": [
    {
     "data": {
      "text/html": [
       "<table>\n",
       "<thead><tr><th scope=col>group</th><th scope=col>click.through.rate</th></tr></thead>\n",
       "<tbody>\n",
       "\t<tr><td>Group      </td><td>0.008643488</td></tr>\n",
       "\t<tr><td>Stereotype </td><td>0.020039605</td></tr>\n",
       "</tbody>\n",
       "</table>\n"
      ],
      "text/latex": [
       "\\begin{tabular}{r|ll}\n",
       " group & click.through.rate\\\\\n",
       "\\hline\n",
       "\t Group       & 0.008643488\\\\\n",
       "\t Stereotype  & 0.020039605\\\\\n",
       "\\end{tabular}\n"
      ],
      "text/markdown": [
       "\n",
       "| group | click.through.rate |\n",
       "|---|---|\n",
       "| Group       | 0.008643488 |\n",
       "| Stereotype  | 0.020039605 |\n",
       "\n"
      ],
      "text/plain": [
       "  group      click.through.rate\n",
       "1 Group      0.008643488       \n",
       "2 Stereotype 0.020039605       "
      ]
     },
     "metadata": {},
     "output_type": "display_data"
    }
   ],
   "source": [
    "aggregate(click.through.rate ~ group, data = headlines, mean)"
   ]
  },
  {
   "cell_type": "code",
   "execution_count": 25,
   "metadata": {},
   "outputs": [
    {
     "data": {
      "text/plain": [
       "\n",
       "\tWelch Two Sample t-test\n",
       "\n",
       "data:  headlines$click.through.rate by headlines$group\n",
       "t = -2.7046, df = 6.0143, p-value = 0.03528\n",
       "alternative hypothesis: true difference in means is not equal to 0\n",
       "95 percent confidence interval:\n",
       " -0.021700620 -0.001091616\n",
       "sample estimates:\n",
       "     mean in group Group mean in group Stereotype \n",
       "             0.008643488              0.020039605 \n"
      ]
     },
     "metadata": {},
     "output_type": "display_data"
    }
   ],
   "source": [
    "## Conduct a t-test between Stereotype and Group\n",
    "t.test(headlines$click.through.rate ~ headlines$group)"
   ]
  },
  {
   "cell_type": "code",
   "execution_count": null,
   "metadata": {},
   "outputs": [],
   "source": []
  }
 ],
 "metadata": {
  "kernelspec": {
   "display_name": "R",
   "language": "R",
   "name": "ir"
  },
  "language_info": {
   "codemirror_mode": "r",
   "file_extension": ".r",
   "mimetype": "text/x-r-source",
   "name": "R",
   "pygments_lexer": "r",
   "version": "3.5.1"
  },
  "varInspector": {
   "cols": {
    "lenName": 16,
    "lenType": 16,
    "lenVar": 40
   },
   "kernels_config": {
    "python": {
     "delete_cmd_postfix": "",
     "delete_cmd_prefix": "del ",
     "library": "var_list.py",
     "varRefreshCmd": "print(var_dic_list())"
    },
    "r": {
     "delete_cmd_postfix": ") ",
     "delete_cmd_prefix": "rm(",
     "library": "var_list.r",
     "varRefreshCmd": "cat(var_dic_list()) "
    }
   },
   "oldHeight": 122.85,
   "position": {
    "height": "40px",
    "left": "690px",
    "right": "20px",
    "top": "120px",
    "width": "250px"
   },
   "types_to_exclude": [
    "module",
    "function",
    "builtin_function_or_method",
    "instance",
    "_Feature"
   ],
   "varInspector_section_display": "none",
   "window_display": true
  }
 },
 "nbformat": 4,
 "nbformat_minor": 2
}
