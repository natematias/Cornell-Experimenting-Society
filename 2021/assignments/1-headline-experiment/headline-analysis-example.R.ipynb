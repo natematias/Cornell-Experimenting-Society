{
 "cells": [
  {
   "cell_type": "markdown",
   "metadata": {
    "collapsed": false
   },
   "source": [
    "# Headline Analysis Example (assignment one)\n",
    "[J. Nathan Matias](https://natematias.com), [COMM 4940](https://natematias.com/courses/comm4940/) (Jan 2020)\n",
    "\n",
    "This code includes an analysis example for the [Week 2 Headline Experiment](https://github.com/natematias/design-governance-experiments/tree/master/assignments/1-headline-experiment).\n",
    "\n",
    "### DATASET DESCRIPTION\n",
    "Each row in *headline-experiment-impressions.csv* represents a single \"impression\" - a browser that viewed a given headline:\n",
    "* **hed**: which headline number was used (the actual headline text is in *headline-experiment-heds.csv*)\n",
    "* **click**: whether that participant clicked on the article to read further"
   ]
  },
  {
   "cell_type": "code",
   "execution_count": 2,
   "metadata": {
    "collapsed": false
   },
   "outputs": [
   ],
   "source": [
    "## LOAD LIBRARIES\n",
    "library(ggplot2) ## FOR PLOTS\n",
    "library(gmodels) ## FOR CrossTable\n",
    "\n",
    "## SET GGPLOT TO USE WIDE BUT NOT TOO TALL PLOTS\n",
    "options(repr.plot.width=6, repr.plot.height=4)"
   ]
  },
  {
   "cell_type": "code",
   "execution_count": 3,
   "metadata": {
    "collapsed": false
   },
   "outputs": [
   ],
   "source": [
    "# load participants file\n",
    "participants     <- read.csv(\"headline-experiment-impressions.csv\")\n",
    "# convert headline to a factor, to simplify analysis later on\n",
    "participants$hed <- factor(participants$hed)\n",
    "# relevel the factors so that the 4th headline is the \"reference factor\" for the regression model\n",
    "participants$hed <- relevel(participants$hed, ref=\"4\", data=participants)\n",
    "\n",
    "\n",
    "headlines        <- read.csv(\"headline-experiment-heds.csv\")"
   ]
  },
  {
   "cell_type": "markdown",
   "metadata": {
    "collapsed": false
   },
   "source": [
    "### Show Headlines"
   ]
  },
  {
   "cell_type": "code",
   "execution_count": 4,
   "metadata": {
    "collapsed": false
   },
   "outputs": [
    {
     "data": {
      "text/html": [
       "<table>\n",
       "<caption>A data.frame: 4 × 2</caption>\n",
       "<thead>\n",
       "\t<tr><th scope=col>id</th><th scope=col>hed</th></tr>\n",
       "\t<tr><th scope=col>&lt;int&gt;</th><th scope=col>&lt;fct&gt;</th></tr>\n",
       "</thead>\n",
       "<tbody>\n",
       "\t<tr><td>1</td><td>She's Not Just Destined For Greatness, She's Destined To Do Great Things For Women</td></tr>\n",
       "\t<tr><td>2</td><td>This Young Woman Just Took Silicon Valley By Storm And She's Not Stopping There   </td></tr>\n",
       "\t<tr><td>3</td><td>Feminism 101: This Girl Is Going Places And She's Taking Other Girls With Her     </td></tr>\n",
       "\t<tr><td>4</td><td>Remember When Math Was Too Hard For The Ladies? Not So Much.                      </td></tr>\n",
       "</tbody>\n",
       "</table>\n"
      ],
      "text/latex": [
       "A data.frame: 4 × 2\n",
       "\\begin{tabular}{ll}\n",
       " id & hed\\\\\n",
       " <int> & <fct>\\\\\n",
       "\\hline\n",
       "\t 1 & She's Not Just Destined For Greatness, She's Destined To Do Great Things For Women\\\\\n",
       "\t 2 & This Young Woman Just Took Silicon Valley By Storm And She's Not Stopping There   \\\\\n",
       "\t 3 & Feminism 101: This Girl Is Going Places And She's Taking Other Girls With Her     \\\\\n",
       "\t 4 & Remember When Math Was Too Hard For The Ladies? Not So Much.                      \\\\\n",
       "\\end{tabular}\n"
      ],
      "text/markdown": [
       "\n",
       "A data.frame: 4 × 2\n",
       "\n",
       "| id &lt;int&gt; | hed &lt;fct&gt; |\n",
       "|---|---|\n",
       "| 1 | She's Not Just Destined For Greatness, She's Destined To Do Great Things For Women |\n",
       "| 2 | This Young Woman Just Took Silicon Valley By Storm And She's Not Stopping There    |\n",
       "| 3 | Feminism 101: This Girl Is Going Places And She's Taking Other Girls With Her      |\n",
       "| 4 | Remember When Math Was Too Hard For The Ladies? Not So Much.                       |\n",
       "\n"
      ],
      "text/plain": [
       "  id\n",
       "1 1 \n",
       "2 2 \n",
       "3 3 \n",
       "4 4 \n",
       "  hed                                                                               \n",
       "1 She's Not Just Destined For Greatness, She's Destined To Do Great Things For Women\n",
       "2 This Young Woman Just Took Silicon Valley By Storm And She's Not Stopping There   \n",
       "3 Feminism 101: This Girl Is Going Places And She's Taking Other Girls With Her     \n",
       "4 Remember When Math Was Too Hard For The Ladies? Not So Much.                      "
      ]
     },
     "execution_count": 4,
     "metadata": {
     },
     "output_type": "execute_result"
    }
   ],
   "source": [
    "headlines"
   ]
  },
  {
   "cell_type": "markdown",
   "metadata": {
    "collapsed": false
   },
   "source": [
    "### Show a CrossTable of the Data"
   ]
  },
  {
   "cell_type": "code",
   "execution_count": 5,
   "metadata": {
    "collapsed": false
   },
   "outputs": [
    {
     "name": "stdout",
     "output_type": "stream",
     "text": [
      "\n",
      " \n",
      "   Cell Contents\n",
      "|-------------------------|\n",
      "|                       N |\n",
      "|           N / Col Total |\n",
      "|-------------------------|\n",
      "\n",
      " \n",
      "Total Observations in Table:  14950 \n",
      "\n",
      " \n",
      "                 | participants$click \n",
      "participants$hed |         0 |         1 | Row Total | \n",
      "-----------------|-----------|-----------|-----------|\n",
      "               4 |      3720 |        17 |      3737 | \n",
      "                 |     0.251 |     0.143 |           | \n",
      "-----------------|-----------|-----------|-----------|\n",
      "               1 |      3716 |        40 |      3756 | \n",
      "                 |     0.251 |     0.336 |           | \n",
      "-----------------|-----------|-----------|-----------|\n",
      "               2 |      3670 |        24 |      3694 | \n",
      "                 |     0.247 |     0.202 |           | \n",
      "-----------------|-----------|-----------|-----------|\n",
      "               3 |      3725 |        38 |      3763 | \n",
      "                 |     0.251 |     0.319 |           | \n",
      "-----------------|-----------|-----------|-----------|\n",
      "    Column Total |     14831 |       119 |     14950 | \n",
      "                 |     0.992 |     0.008 |           | \n",
      "-----------------|-----------|-----------|-----------|\n",
      "\n",
      " \n"
     ]
    }
   ],
   "source": [
    "CrossTable(participants$hed, participants$click, \n",
    "           prop.r =FALSE, prop.c=TRUE, prop.t=FALSE,prop.chisq=FALSE)"
   ]
  },
  {
   "cell_type": "markdown",
   "metadata": {
    "collapsed": false
   },
   "source": [
    "### Estimate Results With Confidence Intervals"
   ]
  },
  {
   "cell_type": "code",
   "execution_count": 6,
   "metadata": {
    "collapsed": false
   },
   "outputs": [
    {
     "data": {
      "text/plain": [
       "\n",
       "Call:\n",
       "lm(formula = click ~ hed, data = participants)\n",
       "\n",
       "Residuals:\n",
       "     Min       1Q   Median       3Q      Max \n",
       "-0.01065 -0.01010 -0.00650 -0.00455  0.99545 \n",
       "\n",
       "Coefficients:\n",
       "            Estimate Std. Error t value Pr(>|t|)   \n",
       "(Intercept) 0.004549   0.001453   3.130  0.00175 **\n",
       "hed1        0.006101   0.002053   2.972  0.00296 **\n",
       "hed2        0.001948   0.002061   0.945  0.34465   \n",
       "hed3        0.005549   0.002052   2.705  0.00684 **\n",
       "---\n",
       "Signif. codes:  0 ‘***’ 0.001 ‘**’ 0.01 ‘*’ 0.05 ‘.’ 0.1 ‘ ’ 1\n",
       "\n",
       "Residual standard error: 0.08884 on 14946 degrees of freedom\n",
       "Multiple R-squared:  0.0008112,\tAdjusted R-squared:  0.0006106 \n",
       "F-statistic: 4.045 on 3 and 14946 DF,  p-value: 0.006954\n"
      ]
     },
     "execution_count": 6,
     "metadata": {
     },
     "output_type": "execute_result"
    }
   ],
   "source": [
    "summary(result.lm <- lm(click ~ hed, data=participants))"
   ]
  },
  {
   "cell_type": "code",
   "execution_count": 7,
   "metadata": {
    "collapsed": false
   },
   "outputs": [
    {
     "name": "stdout",
     "output_type": "stream",
     "text": [
      "[1] \"Estimates and confidence intervals for each arm.\"\n"
     ]
    },
    {
     "data": {
      "text/html": [
       "<table>\n",
       "<caption>A data.frame: 4 × 4</caption>\n",
       "<thead>\n",
       "\t<tr><th scope=col>hed</th><th scope=col>estimate</th><th scope=col>estimate.lwr</th><th scope=col>estimate.upr</th></tr>\n",
       "\t<tr><th scope=col>&lt;fct&gt;</th><th scope=col>&lt;dbl&gt;</th><th scope=col>&lt;dbl&gt;</th><th scope=col>&lt;dbl&gt;</th></tr>\n",
       "</thead>\n",
       "<tbody>\n",
       "\t<tr><td>1</td><td>0.010649627</td><td>0.007808309</td><td>0.013490945</td></tr>\n",
       "\t<tr><td>2</td><td>0.006497022</td><td>0.003631959</td><td>0.009362085</td></tr>\n",
       "\t<tr><td>3</td><td>0.010098326</td><td>0.007259652</td><td>0.012937000</td></tr>\n",
       "\t<tr><td>4</td><td>0.004549104</td><td>0.001700571</td><td>0.007397636</td></tr>\n",
       "</tbody>\n",
       "</table>\n"
      ],
      "text/latex": [
       "A data.frame: 4 × 4\n",
       "\\begin{tabular}{llll}\n",
       " hed & estimate & estimate.lwr & estimate.upr\\\\\n",
       " <fct> & <dbl> & <dbl> & <dbl>\\\\\n",
       "\\hline\n",
       "\t 1 & 0.010649627 & 0.007808309 & 0.013490945\\\\\n",
       "\t 2 & 0.006497022 & 0.003631959 & 0.009362085\\\\\n",
       "\t 3 & 0.010098326 & 0.007259652 & 0.012937000\\\\\n",
       "\t 4 & 0.004549104 & 0.001700571 & 0.007397636\\\\\n",
       "\\end{tabular}\n"
      ],
      "text/markdown": [
       "\n",
       "A data.frame: 4 × 4\n",
       "\n",
       "| hed &lt;fct&gt; | estimate &lt;dbl&gt; | estimate.lwr &lt;dbl&gt; | estimate.upr &lt;dbl&gt; |\n",
       "|---|---|---|---|\n",
       "| 1 | 0.010649627 | 0.007808309 | 0.013490945 |\n",
       "| 2 | 0.006497022 | 0.003631959 | 0.009362085 |\n",
       "| 3 | 0.010098326 | 0.007259652 | 0.012937000 |\n",
       "| 4 | 0.004549104 | 0.001700571 | 0.007397636 |\n",
       "\n"
      ],
      "text/plain": [
       "  hed estimate    estimate.lwr estimate.upr\n",
       "1 1   0.010649627 0.007808309  0.013490945 \n",
       "2 2   0.006497022 0.003631959  0.009362085 \n",
       "3 3   0.010098326 0.007259652  0.012937000 \n",
       "4 4   0.004549104 0.001700571  0.007397636 "
      ]
     },
     "execution_count": 7,
     "metadata": {
     },
     "output_type": "execute_result"
    }
   ],
   "source": [
    "# generate a dataframe with a row for each headline\n",
    "# so we can generate and store the estimates for each one\n",
    "estimate.df <- data.frame(hed=factor(c(1,2,3,4)))\n",
    "\n",
    "# use the predict() method with the result object\n",
    "# to create estimates and confidence intervals for each \n",
    "preds.df <- data.frame(predict(result.lm, estimate.df, se.fit=TRUE, interval=\"confidence\")$fit)\n",
    "\n",
    "estimate.df$estimate <- preds.df$fit\n",
    "estimate.df$estimate.lwr <- preds.df$lwr\n",
    "estimate.df$estimate.upr <- preds.df$upr\n",
    "\n",
    "print(\"Estimates and confidence intervals for each arm.\")\n",
    "estimate.df"
   ]
  },
  {
   "cell_type": "markdown",
   "metadata": {
    "collapsed": false
   },
   "source": [
    "### Plot Results using ggplot"
   ]
  },
  {
   "cell_type": "code",
   "execution_count": 8,
   "metadata": {
    "collapsed": false
   },
   "outputs": [
    {
     "name": "stdout",
     "output_type": "stream",
     "text": [
      "[1] \"max estimate: 0.0134909454371874\"\n"
     ]
    }
   ],
   "source": [
    "print(paste(\"max estimate:\", max(estimate.df$estimate.upr)))"
   ]
  },
  {
   "cell_type": "code",
   "execution_count": 0,
   "metadata": {
    "collapsed": false
   },
   "outputs": [
   ],
   "source": [
    "ggplot(estimate.df, aes(estimate.df$hed, estimate)) +\n",
    "    geom_point() +\n",
    "    geom_errorbar(ymin=estimate.df$estimate.lwr, ymax=estimate.df$estimate.upr, width=0.15) +\n",
    "    theme_bw() +\n",
    "    scale_y_continuous(limits=c(0,0.03), breaks=(seq(0,0.04, 0.0025)),labels = scales::percent) +\n",
    "    coord_flip() + ## This line converts the vertical plot to a horizontal plot\n",
    "    xlab(\"\") +\n",
    "    ylab(\"ASSIGNMENT TODO: Label AXIS\")"
   ]
  }
 ],
 "metadata": {
  "kernelspec": {
   "display_name": "R (R-Project)",
   "language": "r",
   "metadata": {
    "cocalc": {
     "description": "R statistical programming language",
     "priority": 10,
     "url": "https://www.r-project.org/"
    }
   },
   "name": "ir"
  },
  "language_info": {
   "codemirror_mode": "r",
   "file_extension": ".r",
   "mimetype": "text/x-r-source",
   "name": "R",
   "pygments_lexer": "r",
   "version": "3.6.1"
  },
  "varInspector": {
   "cols": {
    "lenName": 16,
    "lenType": 16,
    "lenVar": 40
   },
   "kernels_config": {
    "python": {
     "delete_cmd_postfix": "",
     "delete_cmd_prefix": "del ",
     "library": "var_list.py",
     "varRefreshCmd": "print(var_dic_list())"
    },
    "r": {
     "delete_cmd_postfix": ") ",
     "delete_cmd_prefix": "rm(",
     "library": "var_list.r",
     "varRefreshCmd": "cat(var_dic_list()) "
    }
   },
   "types_to_exclude": [
    "module",
    "function",
    "builtin_function_or_method",
    "instance",
    "_Feature"
   ],
   "window_display": true
  }
 },
 "nbformat": 4,
 "nbformat_minor": 0
}