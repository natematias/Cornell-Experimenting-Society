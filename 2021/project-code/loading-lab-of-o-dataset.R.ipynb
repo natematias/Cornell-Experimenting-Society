{
 "cells": [
  {
   "cell_type": "markdown",
   "metadata": {},
   "source": [
    "# Loading a Lab of Ornithology Dataset For Student Analysis\n",
    "J. Nathan Matias, March 2021\n",
    "\n",
    "Source: a set of tables from the Cornell Lab of Ornithology, generated on March 5th, 2021.\n",
    "\n",
    "Data created in `2021-preparing-student-datasets.py.ipynb`\n",
    "\n",
    "Documentation: [Lab of Ornithology Student Dataset Description](https://docs.google.com/document/d/1qQiYidyyfz7QWu3w6-6-QyHULdje7jsBcw9NtjLAyys/edit#)"
   ]
  },
  {
   "cell_type": "code",
   "execution_count": null,
   "metadata": {},
   "outputs": [],
   "source": [
    "library(gmodels) #provides CrossTable\n",
    "library(ggplot2)"
   ]
  },
  {
   "cell_type": "code",
   "execution_count": null,
   "metadata": {},
   "outputs": [],
   "source": [
    "potential.participants <- read.csv(\"../2021-03-11-HS_CS_lab-of-ornithology.csv\")"
   ]
  },
  {
   "cell_type": "code",
   "execution_count": null,
   "metadata": {},
   "outputs": [],
   "source": [
    "nrow(potential.participants)\n",
    "colnames(potential.participants)"
   ]
  },
  {
   "cell_type": "markdown",
   "metadata": {},
   "source": [
    "# Example Summary Statistics and Charts: Celebrate Urban Birds"
   ]
  },
  {
   "cell_type": "code",
   "execution_count": null,
   "metadata": {},
   "outputs": [],
   "source": [
    "# summary of CUB interactions across all participants\n",
    "summary(potential.participants$cub_num_interactions)\n",
    "\n",
    "# number of participants with any CUB interactions\n",
    "summary(potential.participants$cub_num_interactions>0)\n",
    "\n",
    "# summary data of CUB interactions from CUB participants\n",
    "summary(subset(potential.participants, cub_num_interactions>0)$cub_num_interactions)"
   ]
  },
  {
   "cell_type": "markdown",
   "metadata": {},
   "source": [
    "# Example question: Celebrate Urban Birds:\n",
    "- H1: people in higher population areas are less likely to contribute to eBird, as is common more generally in bird-watching. \n",
    "- H2: people in higher population areas are more likely to contribute to Celebrate Urban Birds (sice the program was designed and marketed to urban bird-watchers)\n",
    "\n",
    "JNM did actually develop these hypotheses before looking at the data, but you'll have to take his word for it! These hypotheses are based on the following source:\n",
    "\n",
    "* 2011. [Birding in the United States: A Demographic and Economic Analysis](https://www.fws.gov/southeast/pdf/report/birding-in-the-united-states-a-demographic-and-economic-analysis.pdf). US Fish & Wildlife Service."
   ]
  },
  {
   "cell_type": "code",
   "execution_count": null,
   "metadata": {},
   "outputs": [],
   "source": [
    "summary(lm(cub_num_interactions>0 ~ log1p(zip_population), data = potential.participants))\n",
    "summary(lm(ebird_num_interactions>0 ~ log1p(zip_population), data = potential.participants))"
   ]
  },
  {
   "cell_type": "code",
   "execution_count": null,
   "metadata": {},
   "outputs": [],
   "source": []
  }
 ],
 "metadata": {
  "kernelspec": {
   "display_name": "R",
   "language": "R",
   "name": "ir"
  },
  "language_info": {
   "codemirror_mode": "r",
   "file_extension": ".r",
   "mimetype": "text/x-r-source",
   "name": "R",
   "pygments_lexer": "r",
   "version": "3.5.1"
  },
  "varInspector": {
   "cols": {
    "lenName": 16,
    "lenType": 16,
    "lenVar": 40
   },
   "kernels_config": {
    "python": {
     "delete_cmd_postfix": "",
     "delete_cmd_prefix": "del ",
     "library": "var_list.py",
     "varRefreshCmd": "print(var_dic_list())"
    },
    "r": {
     "delete_cmd_postfix": ") ",
     "delete_cmd_prefix": "rm(",
     "library": "var_list.r",
     "varRefreshCmd": "cat(var_dic_list()) "
    }
   },
   "types_to_exclude": [
    "module",
    "function",
    "builtin_function_or_method",
    "instance",
    "_Feature"
   ],
   "window_display": false
  }
 },
 "nbformat": 4,
 "nbformat_minor": 4
}
