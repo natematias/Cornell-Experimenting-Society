{
 "cells": [
  {
   "cell_type": "markdown",
   "metadata": {
    "collapsed": false
   },
   "source": [
    "# Validate Final Datasets\n",
    "Data created in `2021-05-create-final-analysis-data.py`, along the lines defined by the pre-registered experiment plan: [The Role of Institutional Experience in Volunteering and Donating](https://osf.io/f2xwr/).\n"
   ]
  },
  {
   "cell_type": "code",
   "execution_count": 7,
   "metadata": {
    "collapsed": false
   },
   "outputs": [
   ],
   "source": [
    "library(ggplot2)\n",
    "library(gmodels)\n",
    "library(MASS)\n",
    "cbbPalette <- c(\"#000000\", \"#E69F00\", \"#56B4E9\", \"#009E73\", \"#F0E442\", \"#0072B2\", \"#D55E00\", \"#CC79A7\")\n",
    "\n",
    "data_folder <- \"/local/Shared/lab-of-ornithology-data/2021-05-14-final-data\""
   ]
  },
  {
   "cell_type": "code",
   "execution_count": 59,
   "metadata": {
    "collapsed": false
   },
   "outputs": [
   ],
   "source": [
    "participant.email <- read.csv(file.path(data_folder, \"participant_emails-2021-05-13.csv\"))\n",
    "participant.email$TREAT <- as.integer(participant.email$TREAT)\n",
    "participant.email$app.usage <- as.integer(participant.email$app.usage)"
   ]
  },
  {
   "cell_type": "code",
   "execution_count": 12,
   "metadata": {
    "collapsed": false
   },
   "outputs": [
    {
     "name": "stdout",
     "output_type": "stream",
     "text": [
      "\n",
      " \n",
      "   Cell Contents\n",
      "|-------------------------|\n",
      "|                       N |\n",
      "|-------------------------|\n",
      "\n",
      " \n",
      "Total Observations in Table:  80000 \n",
      "\n",
      " \n",
      "                             | participant.email$TREAT \n",
      "participant.email$email.type |         0 |         1 | Row Total | \n",
      "-----------------------------|-----------|-----------|-----------|\n",
      "                      donate |     20000 |     20000 |     40000 | \n",
      "-----------------------------|-----------|-----------|-----------|\n",
      "                   volunteer |     20000 |     20000 |     40000 | \n",
      "-----------------------------|-----------|-----------|-----------|\n",
      "                Column Total |     40000 |     40000 |     80000 | \n",
      "-----------------------------|-----------|-----------|-----------|\n",
      "\n",
      " \n"
     ]
    }
   ],
   "source": [
    "CrossTable(participant.email$email.type, participant.email$TREAT,\n",
    "           prop.t=0, prop.chisq=0, prop.r=0, prop.c=0)"
   ]
  },
  {
   "cell_type": "code",
   "execution_count": 13,
   "metadata": {
    "collapsed": false
   },
   "outputs": [
    {
     "data": {
      "text/html": [
       "<style>\n",
       ".list-inline {list-style: none; margin:0; padding: 0}\n",
       ".list-inline>li {display: inline-block}\n",
       ".list-inline>li:not(:last-child)::after {content: \"\\00b7\"; padding: 0 .5ex}\n",
       "</style>\n",
       "<ol class=list-inline><li>'anon_id'</li><li>'sent'</li><li>'delivered'</li><li>'opened'</li><li>'link.clicked'</li><li>'email.type'</li><li>'email.open.rate.before'</li><li>'TREAT'</li><li>'app.usage'</li><li>'state'</li><li>'created'</li><li>'TREpAT'</li></ol>\n"
      ],
      "text/latex": [
       "\\begin{enumerate*}\n",
       "\\item 'anon\\_id'\n",
       "\\item 'sent'\n",
       "\\item 'delivered'\n",
       "\\item 'opened'\n",
       "\\item 'link.clicked'\n",
       "\\item 'email.type'\n",
       "\\item 'email.open.rate.before'\n",
       "\\item 'TREAT'\n",
       "\\item 'app.usage'\n",
       "\\item 'state'\n",
       "\\item 'created'\n",
       "\\item 'TREpAT'\n",
       "\\end{enumerate*}\n"
      ],
      "text/markdown": [
       "1. 'anon_id'\n",
       "2. 'sent'\n",
       "3. 'delivered'\n",
       "4. 'opened'\n",
       "5. 'link.clicked'\n",
       "6. 'email.type'\n",
       "7. 'email.open.rate.before'\n",
       "8. 'TREAT'\n",
       "9. 'app.usage'\n",
       "10. 'state'\n",
       "11. 'created'\n",
       "12. 'TREpAT'\n",
       "\n",
       "\n"
      ],
      "text/plain": [
       " [1] \"anon_id\"                \"sent\"                   \"delivered\"             \n",
       " [4] \"opened\"                 \"link.clicked\"           \"email.type\"            \n",
       " [7] \"email.open.rate.before\" \"TREAT\"                  \"app.usage\"             \n",
       "[10] \"state\"                  \"created\"                \"TREpAT\"                "
      ]
     },
     "execution_count": 13,
     "metadata": {
     },
     "output_type": "execute_result"
    }
   ],
   "source": [
    "colnames(participant.email)"
   ]
  },
  {
   "cell_type": "markdown",
   "metadata": {
    "collapsed": false
   },
   "source": [
    "# Example Analysis and plot\n",
    "Estimate the effect of being assigned to treatment on the probability of clicking on a link in an email, for the volunteering email. And estimate whether the effect is different for participants who have already use the apps already."
   ]
  },
  {
   "cell_type": "code",
   "execution_count": 15,
   "metadata": {
    "collapsed": false
   },
   "outputs": [
    {
     "data": {
      "text/plain": [
       "\n",
       "Call:\n",
       "lm(formula = link.clicked ~ TREAT + app.usage + TREAT:app.usage, \n",
       "    data = subset(participant.email, email.type == \"volunteer\"))\n",
       "\n",
       "Residuals:\n",
       "    Min      1Q  Median      3Q     Max \n",
       "-0.0185 -0.0122 -0.0087 -0.0061  0.9939 \n",
       "\n",
       "Coefficients:\n",
       "                 Estimate Std. Error t value Pr(>|t|)    \n",
       "(Intercept)      0.008700   0.001059   8.212 2.25e-16 ***\n",
       "TREAT           -0.002600   0.001498  -1.735   0.0827 .  \n",
       "app.usage        0.009800   0.001498   6.541 6.20e-11 ***\n",
       "TREAT:app.usage -0.003700   0.002119  -1.746   0.0808 .  \n",
       "---\n",
       "Signif. codes:  0 ‘***’ 0.001 ‘**’ 0.01 ‘*’ 0.05 ‘.’ 0.1 ‘ ’ 1\n",
       "\n",
       "Residual standard error: 0.1059 on 39996 degrees of freedom\n",
       "Multiple R-squared:  0.001921,\tAdjusted R-squared:  0.001846 \n",
       "F-statistic: 25.66 on 3 and 39996 DF,  p-value: < 2.2e-16\n"
      ]
     },
     "execution_count": 15,
     "metadata": {
     },
     "output_type": "execute_result"
    }
   ],
   "source": [
    "summary(volunteer.click.m1 <- lm(link.clicked ~ TREAT + app.usage + TREAT:app.usage, subset(participant.email, email.type==\"volunteer\")))"
   ]
  },
  {
   "cell_type": "markdown",
   "metadata": {
    "collapsed": false
   },
   "source": [
    "### Interpret Results"
   ]
  },
  {
   "cell_type": "markdown",
   "metadata": {
    "collapsed": false
   },
   "source": [
    "### Create Chart"
   ]
  },
  {
   "cell_type": "code",
   "execution_count": 16,
   "metadata": {
    "collapsed": false
   },
   "outputs": [
    {
     "data": {
      "text/html": [
       "<table class=\"dataframe\">\n",
       "<caption>A data.frame: 4 × 6</caption>\n",
       "<thead>\n",
       "\t<tr><th></th><th scope=col>TREAT</th><th scope=col>app.usage</th><th scope=col>label</th><th scope=col>fit</th><th scope=col>lwr</th><th scope=col>upr</th></tr>\n",
       "\t<tr><th></th><th scope=col>&lt;dbl&gt;</th><th scope=col>&lt;dbl&gt;</th><th scope=col>&lt;chr&gt;</th><th scope=col>&lt;dbl&gt;</th><th scope=col>&lt;dbl&gt;</th><th scope=col>&lt;dbl&gt;</th></tr>\n",
       "</thead>\n",
       "<tbody>\n",
       "\t<tr><th scope=row>1</th><td>0</td><td>0</td><td>ctl no app  </td><td>0.0087</td><td>0.006623381</td><td>0.010776619</td></tr>\n",
       "\t<tr><th scope=row>2</th><td>1</td><td>0</td><td>treat no app</td><td>0.0061</td><td>0.004023381</td><td>0.008176619</td></tr>\n",
       "\t<tr><th scope=row>3</th><td>0</td><td>1</td><td>ctl app     </td><td>0.0185</td><td>0.016423381</td><td>0.020576619</td></tr>\n",
       "\t<tr><th scope=row>4</th><td>1</td><td>1</td><td>treat app   </td><td>0.0122</td><td>0.010123381</td><td>0.014276619</td></tr>\n",
       "</tbody>\n",
       "</table>\n"
      ],
      "text/latex": [
       "A data.frame: 4 × 6\n",
       "\\begin{tabular}{r|llllll}\n",
       "  & TREAT & app.usage & label & fit & lwr & upr\\\\\n",
       "  & <dbl> & <dbl> & <chr> & <dbl> & <dbl> & <dbl>\\\\\n",
       "\\hline\n",
       "\t1 & 0 & 0 & ctl no app   & 0.0087 & 0.006623381 & 0.010776619\\\\\n",
       "\t2 & 1 & 0 & treat no app & 0.0061 & 0.004023381 & 0.008176619\\\\\n",
       "\t3 & 0 & 1 & ctl app      & 0.0185 & 0.016423381 & 0.020576619\\\\\n",
       "\t4 & 1 & 1 & treat app    & 0.0122 & 0.010123381 & 0.014276619\\\\\n",
       "\\end{tabular}\n"
      ],
      "text/markdown": [
       "\n",
       "A data.frame: 4 × 6\n",
       "\n",
       "| <!--/--> | TREAT &lt;dbl&gt; | app.usage &lt;dbl&gt; | label &lt;chr&gt; | fit &lt;dbl&gt; | lwr &lt;dbl&gt; | upr &lt;dbl&gt; |\n",
       "|---|---|---|---|---|---|---|\n",
       "| 1 | 0 | 0 | ctl no app   | 0.0087 | 0.006623381 | 0.010776619 |\n",
       "| 2 | 1 | 0 | treat no app | 0.0061 | 0.004023381 | 0.008176619 |\n",
       "| 3 | 0 | 1 | ctl app      | 0.0185 | 0.016423381 | 0.020576619 |\n",
       "| 4 | 1 | 1 | treat app    | 0.0122 | 0.010123381 | 0.014276619 |\n",
       "\n"
      ],
      "text/plain": [
       "  TREAT app.usage label        fit    lwr         upr        \n",
       "1 0     0         ctl no app   0.0087 0.006623381 0.010776619\n",
       "2 1     0         treat no app 0.0061 0.004023381 0.008176619\n",
       "3 0     1         ctl app      0.0185 0.016423381 0.020576619\n",
       "4 1     1         treat app    0.0122 0.010123381 0.014276619"
      ]
     },
     "execution_count": 16,
     "metadata": {
     },
     "output_type": "execute_result"
    }
   ],
   "source": [
    "sim.results.volunteer.click <- data.frame(TREAT     = c(0,1,0,1),\n",
    "                                          app.usage = c(0,0,1,1), \n",
    "                                          label     = c(\"ctl no app\", \"treat no app\",\n",
    "                                                        \"ctl app\",    \"treat app\"))\n",
    "\n",
    "sim.results.volunteer.click <- cbind(sim.results.volunteer.click, predict(volunteer.click.m1, sim.results.volunteer.click, interval = \"confidence\"))\n",
    "sim.results.volunteer.click"
   ]
  },
  {
   "cell_type": "code",
   "execution_count": 17,
   "metadata": {
    "collapsed": false
   },
   "outputs": [
    {
     "data": {
      "image/png": "[encoded data removed]",
      "text/plain": [
       "plot without title"
      ]
     },
     "execution_count": 17,
     "metadata": {
      "image/png": {
       "height": 420,
       "width": 420
      }
     },
     "output_type": "execute_result"
    }
   ],
   "source": [
    "sim.results.volunteer.click$label <- factor(sim.results.volunteer.click$label,\n",
    "                                            levels =c(\"ctl no app\", \"treat no app\",\n",
    "                                                        \"ctl app\",    \"treat app\"))\n",
    "\n",
    "ggplot(sim.results.volunteer.click, aes(label, fit,color=factor(TREAT))) +\n",
    "    geom_point() +\n",
    "    geom_errorbar(ymin=sim.results.volunteer.click$lwr,\n",
    "                  ymax=sim.results.volunteer.click$upr, width=0.2) +\n",
    "    ylim(0,\n",
    "         max(sim.results.volunteer.click$upr)) +\n",
    "    scale_color_manual(values=c(cbbPalette[3], cbbPalette[1])) +\n",
    "    labs(y=\"Estimated Email Clicks\", x=\"Email\", col=\"TREAT\") +\n",
    "    theme_bw() +\n",
    "    ggtitle(\"The main claim goes here in the title\")"
   ]
  },
  {
   "cell_type": "markdown",
   "metadata": {
    "collapsed": false
   },
   "source": [
    "# Analyze Study Participant Data\n",
    "Example analysis: the effect of receiving the intervention on whether someone was based in Indiana after the study."
   ]
  },
  {
   "cell_type": "code",
   "execution_count": 60,
   "metadata": {
    "collapsed": false
   },
   "outputs": [
    {
     "data": {
      "text/html": [
       "<style>\n",
       ".list-inline {list-style: none; margin:0; padding: 0}\n",
       ".list-inline>li {display: inline-block}\n",
       ".list-inline>li:not(:last-child)::after {content: \"\\00b7\"; padding: 0 .5ex}\n",
       "</style>\n",
       "<ol class=list-inline><li>'anon_id'</li><li>'TREAT'</li><li>'app.usage'</li><li>'emails.sent'</li><li>'emails.delivered'</li><li>'emails.opened'</li><li>'emails.clicked'</li><li>'email.open.rate.before'</li><li>'volunteering_any'</li><li>'ebird_num_interactions'</li><li>'donation_any'</li><li>'donation_amount'</li><li>'single_recurring'</li><li>'state'</li><li>'created'</li></ol>\n"
      ],
      "text/latex": [
       "\\begin{enumerate*}\n",
       "\\item 'anon\\_id'\n",
       "\\item 'TREAT'\n",
       "\\item 'app.usage'\n",
       "\\item 'emails.sent'\n",
       "\\item 'emails.delivered'\n",
       "\\item 'emails.opened'\n",
       "\\item 'emails.clicked'\n",
       "\\item 'email.open.rate.before'\n",
       "\\item 'volunteering\\_any'\n",
       "\\item 'ebird\\_num\\_interactions'\n",
       "\\item 'donation\\_any'\n",
       "\\item 'donation\\_amount'\n",
       "\\item 'single\\_recurring'\n",
       "\\item 'state'\n",
       "\\item 'created'\n",
       "\\end{enumerate*}\n"
      ],
      "text/markdown": [
       "1. 'anon_id'\n",
       "2. 'TREAT'\n",
       "3. 'app.usage'\n",
       "4. 'emails.sent'\n",
       "5. 'emails.delivered'\n",
       "6. 'emails.opened'\n",
       "7. 'emails.clicked'\n",
       "8. 'email.open.rate.before'\n",
       "9. 'volunteering_any'\n",
       "10. 'ebird_num_interactions'\n",
       "11. 'donation_any'\n",
       "12. 'donation_amount'\n",
       "13. 'single_recurring'\n",
       "14. 'state'\n",
       "15. 'created'\n",
       "\n",
       "\n"
      ],
      "text/plain": [
       " [1] \"anon_id\"                \"TREAT\"                  \"app.usage\"             \n",
       " [4] \"emails.sent\"            \"emails.delivered\"       \"emails.opened\"         \n",
       " [7] \"emails.clicked\"         \"email.open.rate.before\" \"volunteering_any\"      \n",
       "[10] \"ebird_num_interactions\" \"donation_any\"           \"donation_amount\"       \n",
       "[13] \"single_recurring\"       \"state\"                  \"created\"               "
      ]
     },
     "execution_count": 60,
     "metadata": {
     },
     "output_type": "execute_result"
    }
   ],
   "source": [
    "participants <- read.csv(file.path(data_folder, \"participants-2021-05-13.csv\"))\n",
    "participants$TREAT <- as.integer(participants$TREAT)\n",
    "participants$app.usage <- as.integer(participants$app.usage)\n",
    "\n",
    "colnames(participants)"
   ]
  },
  {
   "cell_type": "code",
   "execution_count": 61,
   "metadata": {
    "collapsed": false
   },
   "outputs": [
    {
     "name": "stdout",
     "output_type": "stream",
     "text": [
      "\n",
      " \n",
      "   Cell Contents\n",
      "|-------------------------|\n",
      "|                       N |\n",
      "|-------------------------|\n",
      "\n",
      " \n",
      "Total Observations in Table:  40000 \n",
      "\n",
      " \n",
      "                       | participants$TREAT \n",
      "participants$app.usage |         0 |         1 | Row Total | \n",
      "-----------------------|-----------|-----------|-----------|\n",
      "                     0 |     10000 |     10000 |     20000 | \n",
      "-----------------------|-----------|-----------|-----------|\n",
      "                     1 |     10000 |     10000 |     20000 | \n",
      "-----------------------|-----------|-----------|-----------|\n",
      "          Column Total |     20000 |     20000 |     40000 | \n",
      "-----------------------|-----------|-----------|-----------|\n",
      "\n",
      " \n"
     ]
    }
   ],
   "source": [
    "CrossTable(participants$app.usage, participants$TREAT,\n",
    "           prop.t=0, prop.chisq=0, prop.r=0, prop.c=0)"
   ]
  },
  {
   "cell_type": "code",
   "execution_count": 62,
   "metadata": {
    "collapsed": false
   },
   "outputs": [
    {
     "data": {
      "text/plain": [
       "\n",
       "Call:\n",
       "lm(formula = state == \"in\" ~ TREAT + app.usage + TREAT:app.usage, \n",
       "    data = participants)\n",
       "\n",
       "Residuals:\n",
       "    Min      1Q  Median      3Q     Max \n",
       "-0.0138 -0.0092 -0.0083 -0.0078  0.9922 \n",
       "\n",
       "Coefficients:\n",
       "                  Estimate Std. Error t value Pr(>|t|)    \n",
       "(Intercept)      0.0078000  0.0009836   7.930 2.25e-15 ***\n",
       "TREAT            0.0005000  0.0013910   0.359  0.71926    \n",
       "app.usage        0.0060000  0.0013910   4.313 1.61e-05 ***\n",
       "TREAT:app.usage -0.0051000  0.0019672  -2.593  0.00953 ** \n",
       "---\n",
       "Signif. codes:  0 ‘***’ 0.001 ‘**’ 0.01 ‘*’ 0.05 ‘.’ 0.1 ‘ ’ 1\n",
       "\n",
       "Residual standard error: 0.09836 on 39996 degrees of freedom\n",
       "Multiple R-squared:  0.0005839,\tAdjusted R-squared:  0.0005089 \n",
       "F-statistic: 7.789 on 3 and 39996 DF,  p-value: 3.396e-05\n"
      ]
     },
     "execution_count": 62,
     "metadata": {
     },
     "output_type": "execute_result"
    }
   ],
   "source": [
    "summary(sim.results.indiana.m1 <- lm(state==\"in\" ~ TREAT + app.usage + TREAT:app.usage, data=participants))"
   ]
  },
  {
   "cell_type": "markdown",
   "metadata": {
    "collapsed": false
   },
   "source": [
    "### Interpret Results and Create Chart"
   ]
  },
  {
   "cell_type": "code",
   "execution_count": 63,
   "metadata": {
    "collapsed": false
   },
   "outputs": [
    {
     "data": {
      "text/html": [
       "<table class=\"dataframe\">\n",
       "<caption>A data.frame: 4 × 6</caption>\n",
       "<thead>\n",
       "\t<tr><th></th><th scope=col>TREAT</th><th scope=col>app.usage</th><th scope=col>label</th><th scope=col>fit</th><th scope=col>lwr</th><th scope=col>upr</th></tr>\n",
       "\t<tr><th></th><th scope=col>&lt;dbl&gt;</th><th scope=col>&lt;dbl&gt;</th><th scope=col>&lt;chr&gt;</th><th scope=col>&lt;dbl&gt;</th><th scope=col>&lt;dbl&gt;</th><th scope=col>&lt;dbl&gt;</th></tr>\n",
       "</thead>\n",
       "<tbody>\n",
       "\t<tr><th scope=row>1</th><td>0</td><td>0</td><td>ctl no app  </td><td>0.0078</td><td>0.005872114</td><td>0.009727886</td></tr>\n",
       "\t<tr><th scope=row>2</th><td>1</td><td>0</td><td>treat no app</td><td>0.0083</td><td>0.006372114</td><td>0.010227886</td></tr>\n",
       "\t<tr><th scope=row>3</th><td>0</td><td>1</td><td>ctl app     </td><td>0.0138</td><td>0.011872114</td><td>0.015727886</td></tr>\n",
       "\t<tr><th scope=row>4</th><td>1</td><td>1</td><td>treat app   </td><td>0.0092</td><td>0.007272114</td><td>0.011127886</td></tr>\n",
       "</tbody>\n",
       "</table>\n"
      ],
      "text/latex": [
       "A data.frame: 4 × 6\n",
       "\\begin{tabular}{r|llllll}\n",
       "  & TREAT & app.usage & label & fit & lwr & upr\\\\\n",
       "  & <dbl> & <dbl> & <chr> & <dbl> & <dbl> & <dbl>\\\\\n",
       "\\hline\n",
       "\t1 & 0 & 0 & ctl no app   & 0.0078 & 0.005872114 & 0.009727886\\\\\n",
       "\t2 & 1 & 0 & treat no app & 0.0083 & 0.006372114 & 0.010227886\\\\\n",
       "\t3 & 0 & 1 & ctl app      & 0.0138 & 0.011872114 & 0.015727886\\\\\n",
       "\t4 & 1 & 1 & treat app    & 0.0092 & 0.007272114 & 0.011127886\\\\\n",
       "\\end{tabular}\n"
      ],
      "text/markdown": [
       "\n",
       "A data.frame: 4 × 6\n",
       "\n",
       "| <!--/--> | TREAT &lt;dbl&gt; | app.usage &lt;dbl&gt; | label &lt;chr&gt; | fit &lt;dbl&gt; | lwr &lt;dbl&gt; | upr &lt;dbl&gt; |\n",
       "|---|---|---|---|---|---|---|\n",
       "| 1 | 0 | 0 | ctl no app   | 0.0078 | 0.005872114 | 0.009727886 |\n",
       "| 2 | 1 | 0 | treat no app | 0.0083 | 0.006372114 | 0.010227886 |\n",
       "| 3 | 0 | 1 | ctl app      | 0.0138 | 0.011872114 | 0.015727886 |\n",
       "| 4 | 1 | 1 | treat app    | 0.0092 | 0.007272114 | 0.011127886 |\n",
       "\n"
      ],
      "text/plain": [
       "  TREAT app.usage label        fit    lwr         upr        \n",
       "1 0     0         ctl no app   0.0078 0.005872114 0.009727886\n",
       "2 1     0         treat no app 0.0083 0.006372114 0.010227886\n",
       "3 0     1         ctl app      0.0138 0.011872114 0.015727886\n",
       "4 1     1         treat app    0.0092 0.007272114 0.011127886"
      ]
     },
     "execution_count": 63,
     "metadata": {
     },
     "output_type": "execute_result"
    }
   ],
   "source": [
    "sim.results.indiana <- data.frame(TREAT     = c(0,1,0,1),\n",
    "                                  app.usage = c(0,0,1,1), \n",
    "                                  label     = c(\"ctl no app\", \"treat no app\",\n",
    "                                                \"ctl app\",    \"treat app\"))\n",
    "\n",
    "sim.results.indiana <- cbind(sim.results.indiana, predict(sim.results.indiana.m1, sim.results.indiana, interval = \"confidence\"))\n",
    "sim.results.indiana"
   ]
  },
  {
   "cell_type": "code",
   "execution_count": 67,
   "metadata": {
    "collapsed": false
   },
   "outputs": [
    {
     "data": {
      "image/png": "[encoded data removed]",
      "text/plain": [
       "plot without title"
      ]
     },
     "execution_count": 67,
     "metadata": {
      "image/png": {
       "height": 420,
       "width": 420
      }
     },
     "output_type": "execute_result"
    }
   ],
   "source": [
    "sim.results.indiana$label <- factor(sim.results.indiana$label,\n",
    "                                    levels =c(\"ctl no app\", \"treat no app\",\n",
    "                                              \"ctl app\",    \"treat app\"))\n",
    "\n",
    "ggplot(sim.results.indiana, aes(label, fit,color=factor(TREAT))) +\n",
    "    geom_point() +\n",
    "    geom_errorbar(ymin=sim.results.indiana$lwr,\n",
    "                  ymax=sim.results.indiana$upr, width=0.2) +\n",
    "    ylim(0,\n",
    "         max(sim.results.indiana$upr)) +\n",
    "    scale_color_manual(values=c(cbbPalette[3], cbbPalette[1])) +\n",
    "    labs(y=\"Estimated Rate Living in Indiana\", x=\"Email\", col=\"TREAT\") +\n",
    "    theme_bw() +\n",
    "    ggtitle(\"Among App Users, The Emails Decreased the Number\\nof Participants Living in Indiana Before the Experiment Started\")"
   ]
  },
  {
   "cell_type": "code",
   "execution_count": 0,
   "metadata": {
    "collapsed": false
   },
   "outputs": [
   ],
   "source": [
   ]
  }
 ],
 "metadata": {
  "kernelspec": {
   "display_name": "R (system-wide)",
   "language": "r",
   "metadata": {
    "cocalc": {
     "description": "R statistical programming language",
     "priority": 10,
     "url": "https://www.r-project.org/"
    }
   },
   "name": "ir",
   "resource_dir": "/ext/jupyter/kernels/ir"
  },
  "language_info": {
   "codemirror_mode": "r",
   "file_extension": ".r",
   "mimetype": "text/x-r-source",
   "name": "R",
   "pygments_lexer": "r",
   "version": "4.0.5"
  }
 },
 "nbformat": 4,
 "nbformat_minor": 4
}